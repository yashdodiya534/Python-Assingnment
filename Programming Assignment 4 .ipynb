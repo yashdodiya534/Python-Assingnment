{
 "cells": [
  {
   "cell_type": "markdown",
   "id": "20cb4340",
   "metadata": {},
   "source": [
    "## Programming Assignment_4\n",
    "----------------"
   ]
  },
  {
   "cell_type": "markdown",
   "id": "4fdb6695",
   "metadata": {
    "tags": []
   },
   "source": [
    "### 1. Write a Python Program to Find the Factorial of a Number?"
   ]
  },
  {
   "cell_type": "code",
   "execution_count": 2,
   "id": "5a1ff11a-c4e4-44d1-ab9e-6eae8b3e99df",
   "metadata": {},
   "outputs": [
    {
     "name": "stdin",
     "output_type": "stream",
     "text": [
      "Enter a number:  5\n"
     ]
    },
    {
     "name": "stdout",
     "output_type": "stream",
     "text": [
      "The factorial of 5 is 120\n"
     ]
    }
   ],
   "source": [
    "\n",
    "num = int(input(\"Enter a number: \"))\n",
    "\n",
    "factorial = 1\n",
    "\n",
    "# check if the number is negative, positive or zero\n",
    "if num < 0:\n",
    "   print(\"Sorry, factorial does not exist for negative numbers\")\n",
    "elif num == 0:\n",
    "   print(\"The factorial of 0! is 1\")\n",
    "else:\n",
    "   for i in range(1,num + 1):\n",
    "       factorial = factorial*i\n",
    "   print(\"The factorial of\",num,\"is\",factorial)"
   ]
  },
  {
   "cell_type": "markdown",
   "id": "e6beef62",
   "metadata": {},
   "source": [
    "### 2. Write a Python Program to Display the multiplication Table?"
   ]
  },
  {
   "cell_type": "code",
   "execution_count": 7,
   "id": "7d775563-31f4-4ddc-89ac-9b649ec12cc0",
   "metadata": {},
   "outputs": [
    {
     "name": "stdin",
     "output_type": "stream",
     "text": [
      "Enter the number of which the user wants to print the multiplication table:  100\n"
     ]
    },
    {
     "name": "stdout",
     "output_type": "stream",
     "text": [
      "The Multiplication Table of:  100\n",
      "100 x 1 = 100\n",
      "100 x 2 = 200\n",
      "100 x 3 = 300\n",
      "100 x 4 = 400\n",
      "100 x 5 = 500\n",
      "100 x 6 = 600\n",
      "100 x 7 = 700\n",
      "100 x 8 = 800\n",
      "100 x 9 = 900\n",
      "100 x 10 = 1000\n"
     ]
    }
   ],
   "source": [
    "number = int(input (\"Enter the number of which want to multiplication table: \"))             \n",
    "print (\"The Multiplication Table of: \", number)    \n",
    "for count in range(1, 11):      \n",
    "   print (number, 'x', count, '=', number * count)    "
   ]
  },
  {
   "cell_type": "markdown",
   "id": "7de7eba5",
   "metadata": {},
   "source": [
    "### 3. Write a Python Program to Print the Fibonacci sequence?\n"
   ]
  },
  {
   "cell_type": "code",
   "execution_count": null,
   "id": "2797d18d-602d-42d2-98a9-276eac582f34",
   "metadata": {},
   "outputs": [
    {
     "name": "stdin",
     "output_type": "stream",
     "text": [
      "Enter how many steps you wnat to print the Fibonacci Sequece 15\n"
     ]
    },
    {
     "name": "stdout",
     "output_type": "stream",
     "text": [
      "1\n",
      "1\n",
      "2\n",
      "3\n",
      "5\n",
      "8\n",
      "13\n",
      "21\n",
      "34\n",
      "55\n",
      "89\n",
      "144\n",
      "233\n",
      "377\n",
      "610\n",
      "987\n"
     ]
    }
   ],
   "source": [
    "Num=int(input(\"Enter how many steps you wnat to print the Fibonacci Sequece\"))\n",
    "\n",
    "A=0\n",
    "B=1\n",
    "C=A+B\n",
    "print(B)\n",
    "for i in range(Num):\n",
    "    C=B+C\n",
    "    C,B=B,C\n",
    "    \n",
    "    print(C)\n",
    "\n",
    "\n"
   ]
  },
  {
   "cell_type": "markdown",
   "id": "0446442e",
   "metadata": {},
   "source": [
    "### 4. Write a Python Program to Check Armstrong Number?"
   ]
  },
  {
   "cell_type": "code",
   "execution_count": 23,
   "id": "149e74a7-6b2a-47ea-a00f-8212e3959359",
   "metadata": {},
   "outputs": [
    {
     "name": "stdin",
     "output_type": "stream",
     "text": [
      "Enter the three Digit number: 153\n"
     ]
    },
    {
     "name": "stdout",
     "output_type": "stream",
     "text": [
      "153\n",
      "153\n",
      "ok\n"
     ]
    }
   ],
   "source": [
    "Num=input(\"Enter the three Digit number:\")\n",
    "\n",
    "\n",
    "Num_int=int(Num)\n",
    "\n",
    "if Num_int>99 and Num_int<=999:\n",
    "    \n",
    "    Num_A=[int(Num[0]),int(Num[1]),int(Num[2])]\n",
    "    \n",
    "    Num_cube=[Num_A[0]**3,Num_A[1]**3,Num_A[2]**3]\n",
    "    \n",
    "    Num_cube_sum=sum(Num_cube)\n",
    "    \n",
    "    print(Num_int)\n",
    "    print(Num_cube_sum) \n",
    "    \n",
    "    if Num_int == Num_cube_sum:\n",
    "        \n",
    "        print(\"ok\")\n",
    "        \n",
    "    else:\n",
    "        \n",
    "        print(\"no\")\n",
    "else:\n",
    "    print(\"invalid Number\")\n",
    "    \n",
    "\n",
    "    \n",
    "    \n"
   ]
  },
  {
   "cell_type": "raw",
   "id": "81731b92-a0f9-4285-8a75-73e90366ce05",
   "metadata": {},
   "source": [
    " 5. Write a Python Program to Find Armstrong Number in an Interval?"
   ]
  },
  {
   "cell_type": "code",
   "execution_count": null,
   "id": "c5e07a02-cb33-463f-8a65-c5844e7a13ac",
   "metadata": {},
   "outputs": [],
   "source": [
    "# Python program to find armstrong number in an interval\n",
    "\n",
    "# take range\n",
    "low = int(input(\"Enter the lower limit: \"))\n",
    "up = int(input(\"Enter the upper limit: \"))\n",
    "\n",
    "# find armstrong number in range\n",
    "for i in range(low, up +1):\n",
    "   pow = len(str(i))\n",
    "   sum = 0\n",
    "   temp = i\n",
    "   while temp > 0:\n",
    "      digits = temp %10\n",
    "      sum += digits ** pow\n",
    "      temp //= 10\n",
    "   if i == sum:\n",
    "      print(i)"
   ]
  },
  {
   "cell_type": "markdown",
   "id": "157cad60",
   "metadata": {},
   "source": [
    "### 6. Write a Python Program to Find the Sum of Natural Numbers?"
   ]
  },
  {
   "cell_type": "code",
   "execution_count": 15,
   "id": "6aace548-e3db-4ac7-9f22-b0de3edad103",
   "metadata": {},
   "outputs": [
    {
     "name": "stdin",
     "output_type": "stream",
     "text": [
      "Enter the real number: 20\n"
     ]
    },
    {
     "name": "stdout",
     "output_type": "stream",
     "text": [
      "The Sum of Natural Numbers from 1 to 20 =  210.0\n"
     ]
    }
   ],
   "source": [
    "\n",
    "\n",
    "\n",
    "Natural_number = int(input(\"Enter the real number:\"))\n",
    "\n",
    "N = Natural_number\n",
    "\n",
    "total= (N*(N+1))/2 #sum of the number\n",
    "\n",
    "\n",
    "print(\"The Sum of Natural Numbers from 1 to {0} =  {1}\".format(Natural_number, total))\n"
   ]
  },
  {
   "cell_type": "markdown",
   "id": "c178be22-445c-4790-8b50-17c145a905d8",
   "metadata": {},
   "source": []
  },
  {
   "cell_type": "code",
   "execution_count": null,
   "id": "b6f9def6-d8ed-4539-a638-2d43cec70455",
   "metadata": {},
   "outputs": [],
   "source": []
  },
  {
   "cell_type": "code",
   "execution_count": null,
   "id": "341a436b-3e94-401f-9e79-f630c9e72e7c",
   "metadata": {},
   "outputs": [],
   "source": []
  }
 ],
 "metadata": {
  "kernelspec": {
   "display_name": "Python 3 (ipykernel)",
   "language": "python",
   "name": "python3"
  },
  "language_info": {
   "codemirror_mode": {
    "name": "ipython",
    "version": 3
   },
   "file_extension": ".py",
   "mimetype": "text/x-python",
   "name": "python",
   "nbconvert_exporter": "python",
   "pygments_lexer": "ipython3",
   "version": "3.10.6"
  }
 },
 "nbformat": 4,
 "nbformat_minor": 5
}
