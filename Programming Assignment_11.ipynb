{
 "cells": [
  {
   "cell_type": "markdown",
   "id": "53c7e882",
   "metadata": {},
   "source": [
    "# Python Basic Programming Assignment 11\n",
    "--------------------"
   ]
  },
  {
   "cell_type": "markdown",
   "id": "051da140",
   "metadata": {},
   "source": [
    "### 1. Write a Python program to find words which are greater than given length k?"
   ]
  },
  {
   "cell_type": "code",
   "execution_count": null,
   "id": "63bc0656",
   "metadata": {},
   "outputs": [],
   "source": [
    "def string_k(k, str):\n",
    "     \n",
    "    \n",
    "    string = []\n",
    "     \n",
    "    \n",
    "    text = str.split(\" \")\n",
    "     \n",
    "    \n",
    "    for x in text:\n",
    "         \n",
    "        \n",
    "        if len(x) > k:\n",
    "             \n",
    "          \n",
    "            string.append(x)\n",
    "             \n",
    "     \n",
    "    return string\n",
    " \n",
    " \n",
    "# Driver Program    \n",
    "k = int(input(\"give the length of word \"))\n",
    "str = input(\"Enter the string:\")\n",
    "print(string_k(k, str))"
   ]
  },
  {
   "cell_type": "markdown",
   "id": "26719cbd",
   "metadata": {},
   "source": [
    "### 2. Write a Python program for removing i-th character from a string?"
   ]
  },
  {
   "cell_type": "code",
   "execution_count": 6,
   "id": "0e5ab91b",
   "metadata": {},
   "outputs": [
    {
     "name": "stdout",
     "output_type": "stream",
     "text": [
      "original string :  jhjgjc scd,cjhs,ms,\n",
      "jhjgjc scdcjhs,ms,\n"
     ]
    }
   ],
   "source": [
    "def remove(string, i):\n",
    "  \n",
    "  \n",
    "    a = string[: i]\n",
    "  \n",
    "  \n",
    "    b = string[i + 1:]\n",
    "  \n",
    "    return a + b\n",
    "  \n",
    "\n",
    "if __name__ == '__main__':\n",
    "  \n",
    "    string = input(\"Enter the string:\")\n",
    "    print(\"original string : \", string)\n",
    "   \n",
    "    i = int(input(\"give the length of word \"))\n",
    "  \n",
    "    \n",
    "    print(remove(string, i))"
   ]
  },
  {
   "cell_type": "markdown",
   "id": "51ae6b0f",
   "metadata": {},
   "source": [
    "### 3. Write a Python program to split and join a string?"
   ]
  },
  {
   "cell_type": "code",
   "execution_count": null,
   "id": "73470cac",
   "metadata": {},
   "outputs": [],
   "source": [
    "def split_string(string):\n",
    "  \n",
    "  \n",
    "    list_string = string.split(' ')\n",
    "      \n",
    "    return list_string\n",
    "  \n",
    "def join_string(list_string):\n",
    "  \n",
    "    \n",
    "    string = '-'.join(list_string)\n",
    "      \n",
    "    return string\n",
    "  \n",
    "\n",
    "if __name__ == '__main__':\n",
    "    string = input(\"Enter the string:\")\n",
    "      \n",
    "  \n",
    "    list_string = split_string(string)\n",
    "    print(list_string)\n",
    "  \n",
    "     \n",
    "    new_string = join_string(list_string)\n",
    "    print(new_string)"
   ]
  },
  {
   "cell_type": "markdown",
   "id": "59079fe1",
   "metadata": {},
   "source": [
    "### 4. Write a Python to check if a given string is binary string or not?"
   ]
  },
  {
   "cell_type": "code",
   "execution_count": null,
   "id": "a6c6f65e",
   "metadata": {},
   "outputs": [],
   "source": [
    "def check(string):\n",
    "  \n",
    "   \n",
    "    p = set(string)\n",
    "  \n",
    "   \n",
    "    s = {'0', '1'}\n",
    "  \n",
    "    \n",
    "    if s == p or p == {'0'} or p == {'1'}:\n",
    "        print(\"Yes\")\n",
    "    else:\n",
    "        print(\"No\")\n",
    "  \n",
    "  \n",
    "# driver code\n",
    "if __name__ == \"__main__\":\n",
    "  \n",
    "    string = \"101010000111\"\n",
    "  \n",
    "    # function calling\n",
    "    check(string)"
   ]
  },
  {
   "attachments": {},
   "cell_type": "markdown",
   "id": "4d6cf11a",
   "metadata": {},
   "source": [
    "### 5. Write a Python program to find uncommon words from two Strings?"
   ]
  },
  {
   "cell_type": "code",
   "execution_count": null,
   "id": "77972117",
   "metadata": {},
   "outputs": [],
   "source": [
    "def UncommonWords(A, B):\n",
    "    A=A.split()\n",
    "    B=B.split()\n",
    "    x=[]\n",
    "    for i in A:\n",
    "        if i not in B:\n",
    "            x.append(i)\n",
    "    for i in B:\n",
    "        if i not in A:\n",
    "            x.append(i)\n",
    "    x=list(set(x))\n",
    "    return x\n",
    "             \n",
    " \n",
    "\n",
    "A = input(\"Enter the string:\")\n",
    "B = input(\"Enter the string:\")\n",
    " \n",
    "\n",
    "print(UncommonWords(A, B))"
   ]
  },
  {
   "cell_type": "markdown",
   "id": "e2b24677",
   "metadata": {},
   "source": [
    "### 6. Write a Python to find all duplicate characters in string?"
   ]
  },
  {
   "cell_type": "code",
   "execution_count": 1,
   "id": "b8b30bfa",
   "metadata": {},
   "outputs": [
    {
     "name": "stdout",
     "output_type": "stream",
     "text": [
      "u f s i\n"
     ]
    }
   ],
   "source": [
    "def find_dup_char(input):\n",
    "    x=[]\n",
    "    for i in input:\n",
    "        if i not in x and input.count(i)>1:\n",
    "            x.append(i)\n",
    "    print(\" \".join(x))\n",
    " \n",
    "# Driver program\n",
    "if __name__ == \"__main__\":\n",
    "    input = 'kufusuifgnsiw'\n",
    "    find_dup_char(input)"
   ]
  },
  {
   "cell_type": "markdown",
   "id": "1a6af7e4",
   "metadata": {},
   "source": [
    "### 7. Write a Python Program to check if a string contains any special character?"
   ]
  },
  {
   "cell_type": "code",
   "execution_count": 2,
   "id": "eeff35fa",
   "metadata": {},
   "outputs": [
    {
     "name": "stdout",
     "output_type": "stream",
     "text": [
      "The string does not contain special characters.\n",
      "The string contains special characters.\n"
     ]
    }
   ],
   "source": [
    "def has_special_char(s):\n",
    "  for c in s:\n",
    "    if not (c.isalpha() or c.isdigit() or c == ' '):\n",
    "      return True\n",
    "  return False\n",
    " \n",
    "# Test the function\n",
    "s = \"Hello World\"\n",
    "if has_special_char(s):\n",
    "  print(\"The string contains special characters.\")\n",
    "else:\n",
    "  print(\"The string does not contain special characters.\")\n",
    " \n",
    "s = \"Hello@World\"\n",
    "if has_special_char(s):\n",
    "  print(\"The string contains special characters.\")\n",
    "else:\n",
    "  print(\"The string does not contain special characters.\")"
   ]
  }
 ],
 "metadata": {
  "kernelspec": {
   "display_name": "Python 3 (ipykernel)",
   "language": "python",
   "name": "python3"
  },
  "language_info": {
   "codemirror_mode": {
    "name": "ipython",
    "version": 3
   },
   "file_extension": ".py",
   "mimetype": "text/x-python",
   "name": "python",
   "nbconvert_exporter": "python",
   "pygments_lexer": "ipython3",
   "version": "3.10.9"
  }
 },
 "nbformat": 4,
 "nbformat_minor": 5
}
