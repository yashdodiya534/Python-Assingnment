{
 "cells": [
  {
   "cell_type": "markdown",
   "id": "53c7e882",
   "metadata": {},
   "source": [
    "# Python Basic Programming Assignment 11\n",
    "--------------------"
   ]
  },
  {
   "cell_type": "markdown",
   "id": "051da140",
   "metadata": {},
   "source": [
    "### 1. Write a Python program to find words which are greater than given length k?"
   ]
  },
  {
   "cell_type": "markdown",
   "id": "26719cbd",
   "metadata": {},
   "source": [
    "### 2. Write a Python program for removing i-th character from a string?"
   ]
  },
  {
   "cell_type": "markdown",
   "id": "51ae6b0f",
   "metadata": {},
   "source": [
    "### 3. Write a Python program to split and join a string?"
   ]
  },
  {
   "cell_type": "markdown",
   "id": "59079fe1",
   "metadata": {},
   "source": [
    "### 4. Write a Python to check if a given string is binary string or not?"
   ]
  },
  {
   "cell_type": "markdown",
   "id": "4d6cf11a",
   "metadata": {},
   "source": [
    "### 5. Write a Python program to find uncommon words from two Strings?"
   ]
  },
  {
   "cell_type": "markdown",
   "id": "e2b24677",
   "metadata": {},
   "source": [
    "### 6. Write a Python to find all duplicate characters in string?"
   ]
  },
  {
   "cell_type": "markdown",
   "id": "1a6af7e4",
   "metadata": {},
   "source": [
    "### 7. Write a Python Program to check if a string contains any special character?"
   ]
  }
 ],
 "metadata": {
  "kernelspec": {
   "display_name": "Python 3 (ipykernel)",
   "language": "python",
   "name": "python3"
  },
  "language_info": {
   "codemirror_mode": {
    "name": "ipython",
    "version": 3
   },
   "file_extension": ".py",
   "mimetype": "text/x-python",
   "name": "python",
   "nbconvert_exporter": "python",
   "pygments_lexer": "ipython3",
   "version": "3.9.12"
  }
 },
 "nbformat": 4,
 "nbformat_minor": 5
}
