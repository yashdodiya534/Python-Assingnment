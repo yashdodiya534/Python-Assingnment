{
 "cells": [
  {
   "cell_type": "markdown",
   "id": "9b304197",
   "metadata": {},
   "source": [
    "# Python Basic Programming Assignment 8"
   ]
  },
  {
   "cell_type": "markdown",
   "id": "22789ae6",
   "metadata": {},
   "source": [
    "### 1. Write a Python Program to Add Two Matrices?"
   ]
  },
  {
   "cell_type": "code",
   "execution_count": 6,
   "id": "1d3373ee",
   "metadata": {},
   "outputs": [
    {
     "name": "stdout",
     "output_type": "stream",
     "text": [
      "[[ 2  4  6]\n",
      " [ 8 10 12]\n",
      " [14 16 18]]\n"
     ]
    }
   ],
   "source": [
    "\n",
    "import numpy as np\n",
    "\n",
    "m1= np.array([1,2,3,4,5,6,7,8,9])\n",
    "m3=m1.reshape(3,3)\n",
    "\n",
    "m2= np.array([1,2,3,4,5,6,7,8,9])\n",
    "m4=m1.reshape(3,3)\n",
    "\n",
    "m5=m3+m4\n",
    "\n",
    "print(m5)"
   ]
  },
  {
   "cell_type": "markdown",
   "id": "044ceda6",
   "metadata": {},
   "source": [
    "### 2. Write a Python Program to Multiply Two Matrices?"
   ]
  },
  {
   "cell_type": "code",
   "execution_count": 7,
   "id": "f7a8c3b6",
   "metadata": {},
   "outputs": [
    {
     "name": "stdout",
     "output_type": "stream",
     "text": [
      "[[ 1  4  9]\n",
      " [16 25 36]\n",
      " [49 64 81]]\n"
     ]
    }
   ],
   "source": [
    "m1= np.array([1,2,3,4,5,6,7,8,9])\n",
    "m3=m1.reshape(3,3)\n",
    "\n",
    "m2= np.array([1,2,3,4,5,6,7,8,9])\n",
    "m4=m1.reshape(3,3)\n",
    "\n",
    "m5=m3*m4\n",
    "\n",
    "print(m5)"
   ]
  },
  {
   "cell_type": "markdown",
   "id": "5f688e46",
   "metadata": {},
   "source": [
    "### 3. Write a Python Program to Transpose a Matrix?"
   ]
  },
  {
   "cell_type": "code",
   "execution_count": 18,
   "id": "f3771e8f",
   "metadata": {},
   "outputs": [
    {
     "name": "stdout",
     "output_type": "stream",
     "text": [
      "Initional matrix:\n",
      " [[1 2]\n",
      " [3 4]\n",
      " [5 6]\n",
      " [7 8]]\n",
      "transposed matrix:\n",
      " [[1 3 5 7]\n",
      " [2 4 6 8]]\n"
     ]
    }
   ],
   "source": [
    "m1= np.array([1,2,3,4,5,6,7,8,])\n",
    "m3=m1.reshape(4,2)\n",
    "\n",
    "\n",
    "\n",
    "m5=m3.transpose()\n",
    "print(\"Initional matrix:\"'\\n',m3)\n",
    "print(\"transposed matrix:\"'\\n',m5)"
   ]
  },
  {
   "cell_type": "markdown",
   "id": "b2849025",
   "metadata": {},
   "source": [
    "\n",
    "### 4. Write a Python Program to Sort Words in Alphabetic Order?\n"
   ]
  },
  {
   "cell_type": "code",
   "execution_count": 19,
   "id": "bcf4e4c0",
   "metadata": {},
   "outputs": [
    {
     "name": "stdout",
     "output_type": "stream",
     "text": [
      "enter the words separated by semicolon(;): yash,divya,milan\n"
     ]
    },
    {
     "name": "stdout",
     "output_type": "stream",
     "text": [
      "['divya', 'milan', 'yash']\n"
     ]
    }
   ],
   "source": [
    "my_list = ((input(\"enter the words separated by semicolon(;):\")))\n",
    "#print(words)\n",
    "my_list =my_list .split(',')\n",
    "#my_list = ['Yash', 'Divya', 'Milan']\n",
    "my_list.sort()\n",
    "print(my_list)"
   ]
  },
  {
   "cell_type": "markdown",
   "id": "48ac7b24",
   "metadata": {},
   "source": [
    "### 5. Write a Python Program to Remove Punctuation From a String?"
   ]
  },
  {
   "cell_type": "code",
   "execution_count": 21,
   "id": "0d96d8bd",
   "metadata": {},
   "outputs": [
    {
     "name": "stdout",
     "output_type": "stream",
     "text": [
      "Hello How are you doing\n"
     ]
    }
   ],
   "source": [
    "import string\n",
    "\n",
    "def remove_punctuation(input_string):\n",
    "\n",
    "    translator = str.maketrans('', '', string.punctuation)\n",
    "   \n",
    "    no_punct = input_string.translate(translator)\n",
    "    return no_punct\n",
    "\n",
    "my_string = \"Hello! How are you doing?\"\n",
    "print(remove_punctuation(my_string))"
   ]
  },
  {
   "cell_type": "code",
   "execution_count": null,
   "id": "b2906b1e",
   "metadata": {},
   "outputs": [],
   "source": [
    "ujcj\n"
   ]
  }
 ],
 "metadata": {
  "kernelspec": {
   "display_name": "Python 3 (ipykernel)",
   "language": "python",
   "name": "python3"
  },
  "language_info": {
   "codemirror_mode": {
    "name": "ipython",
    "version": 3
   },
   "file_extension": ".py",
   "mimetype": "text/x-python",
   "name": "python",
   "nbconvert_exporter": "python",
   "pygments_lexer": "ipython3",
   "version": "3.10.6"
  }
 },
 "nbformat": 4,
 "nbformat_minor": 5
}
