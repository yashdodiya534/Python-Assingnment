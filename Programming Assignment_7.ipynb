{
 "cells": [
  {
   "cell_type": "markdown",
   "id": "35297a20",
   "metadata": {},
   "source": [
    "## Programming Basic Assignment 7"
   ]
  },
  {
   "cell_type": "markdown",
   "id": "27349114",
   "metadata": {},
   "source": [
    "### 1. Write a Python Program to find sum of array?"
   ]
  },
  {
   "cell_type": "code",
   "execution_count": 3,
   "id": "d07f3f92",
   "metadata": {},
   "outputs": [
    {
     "name": "stdout",
     "output_type": "stream",
     "text": [
      "enter the number1,2,3,4\n",
      "Sum of the array is: 10\n"
     ]
    }
   ],
   "source": [
    "def array_sum(arr):\n",
    "    sum = 0\n",
    "    for i in arr:\n",
    "        sum += i\n",
    "    return sum\n",
    "\n",
    "arr=eval(input(\"enter the number\"))\n",
    "\n",
    "print(\"Sum of the array is:\", array_sum(arr))"
   ]
  },
  {
   "cell_type": "markdown",
   "id": "171a980d",
   "metadata": {},
   "source": [
    "### 2. Write a Python Program to find largest element in an array?\n"
   ]
  },
  {
   "cell_type": "code",
   "execution_count": 7,
   "id": "ae1c482a",
   "metadata": {},
   "outputs": [
    {
     "name": "stdout",
     "output_type": "stream",
     "text": [
      "enter the number1,2,3,4,5,6\n",
      "The largest element in the array is: 6\n"
     ]
    }
   ],
   "source": [
    "def find_largest(arr):\n",
    "    # Initialize a variable to store the maximum element found so far\n",
    "    max_elem = arr[0]\n",
    "    \n",
    "    \n",
    "    for i in range(1, len(arr)):\n",
    "      \n",
    "        if arr[i] > max_elem:\n",
    "            max_elem = arr[i]\n",
    "    \n",
    "    # Return the maximum element\n",
    "    return max_elem\n",
    "\n",
    "\n",
    "\n",
    "arr=eval(input(\"enter the number\"))\n",
    "\n",
    "largest_elem = find_largest(arr)\n",
    "\n",
    "print(\"The largest element in the array is:\", largest_elem)\n",
    "    "
   ]
  },
  {
   "cell_type": "markdown",
   "id": "21613246",
   "metadata": {},
   "source": [
    "### 3. Write a Python Program for array rotation?"
   ]
  },
  {
   "cell_type": "code",
   "execution_count": 8,
   "id": "59d7d8bd",
   "metadata": {},
   "outputs": [
    {
     "name": "stdout",
     "output_type": "stream",
     "text": [
      "enter the Array1,2,3,4,5,6,7\n",
      "Original Array: (1, 2, 3, 4, 5, 6, 7)\n",
      "Rotated Array: (3, 4, 5, 6, 7, 1, 2)\n"
     ]
    }
   ],
   "source": [
    "def rotate_array(arr, k):\n",
    "   \n",
    "    rotations = k % len(arr)\n",
    "    \n",
    "    # Rotate the array using slicing\n",
    "    rotated_arr = arr[rotations:] + arr[:rotations]\n",
    "    \n",
    "    return rotated_arr\n",
    "\n",
    "\n",
    "my_array = eval(input(\"enter the Array: \"))\n",
    "\n",
    "k = eval(input(\"Eneter the number of times you need to rotate the array: \"))\n",
    "\n",
    "rotated_array = rotate_array(my_array, k)\n",
    "\n",
    "print(\"Original Array:\", my_array)\n",
    "\n",
    "print(\"Rotated Array:\", rotated_array)"
   ]
  },
  {
   "cell_type": "markdown",
   "id": "3e52d939",
   "metadata": {},
   "source": [
    "### 4. Write a Python Program to Split the array and add the first part to the end?"
   ]
  },
  {
   "cell_type": "code",
   "execution_count": null,
   "id": "88387fd3",
   "metadata": {},
   "outputs": [],
   "source": [
    "def split_and_add(arr, n):\n",
    "    \n",
    "    first_half = arr[:n]\n",
    "    second_half = arr[n:]\n",
    "    \n",
    "   \n",
    "    new_arr = second_half + first_half\n",
    "    \n",
    "    return new_arr\n",
    "\n",
    "\n",
    "my_array = eval(input(\"enter the Array: \"))\n",
    "\n",
    "n = 4\n",
    "\n",
    "new_array = split_and_add(my_array, n)\n",
    "\n",
    "print(\"Original Array:\", my_array)\n",
    "\n",
    "print(\"New Array:\", new_array)"
   ]
  },
  {
   "cell_type": "markdown",
   "id": "aa375779",
   "metadata": {},
   "source": [
    "### 5. Write a Python Program to check if given array is Monotonic?"
   ]
  },
  {
   "cell_type": "code",
   "execution_count": null,
   "id": "d8e76305",
   "metadata": {},
   "outputs": [],
   "source": [
    "def is_monotonic(arr):\n",
    "    # Determine the direction of the array (ascending or descending)\n",
    "    direction = 0\n",
    "    for i in range(1, len(arr)):\n",
    "        if arr[i] > arr[i-1]:\n",
    "            direction = 1\n",
    "            break\n",
    "        elif arr[i] < arr[i-1]:\n",
    "            direction = -1\n",
    "            break\n",
    "    \n",
    "    # Check if the array is monotonic in the determined direction\n",
    "    for i in range(1, len(arr)):\n",
    "        if direction == 0:\n",
    "            if arr[i] != arr[i-1]:\n",
    "                return False\n",
    "        elif direction == 1:\n",
    "            if arr[i] < arr[i-1]:\n",
    "                return False\n",
    "        elif direction == -1:\n",
    "            if arr[i] > arr[i-1]:\n",
    "                return False\n",
    "    \n",
    "    return True\n",
    "\n",
    "# Example usage\n",
    "my_array1 = [1, 2, 3, 4, 5]\n",
    "my_array2 = [1, 2, 3, 4, 5]\n",
    "my_array3 = [1, 2, 3, 4, 5]\n",
    "print(is_monotonic(my_array1)) # True\n",
    "print(is_monotonic(my_array2)) # True\n",
    "print(is_monotonic(my_array3)) # True"
   ]
  },
  {
   "cell_type": "code",
   "execution_count": null,
   "id": "bceca122",
   "metadata": {},
   "outputs": [],
   "source": []
  },
  {
   "cell_type": "code",
   "execution_count": null,
   "id": "1951589a",
   "metadata": {},
   "outputs": [],
   "source": []
  },
  {
   "cell_type": "code",
   "execution_count": null,
   "id": "5e168aa9",
   "metadata": {},
   "outputs": [],
   "source": []
  }
 ],
 "metadata": {
  "kernelspec": {
   "display_name": "Python 3 (ipykernel)",
   "language": "python",
   "name": "python3"
  },
  "language_info": {
   "codemirror_mode": {
    "name": "ipython",
    "version": 3
   },
   "file_extension": ".py",
   "mimetype": "text/x-python",
   "name": "python",
   "nbconvert_exporter": "python",
   "pygments_lexer": "ipython3",
   "version": "3.9.15"
  }
 },
 "nbformat": 4,
 "nbformat_minor": 5
}
