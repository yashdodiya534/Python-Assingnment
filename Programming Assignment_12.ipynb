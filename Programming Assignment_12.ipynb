{
 "cells": [
  {
   "cell_type": "markdown",
   "id": "b7231b20",
   "metadata": {},
   "source": [
    "# Python Basic Programming Assignment 12\n",
    "-------------"
   ]
  },
  {
   "attachments": {},
   "cell_type": "markdown",
   "id": "d2ec324d",
   "metadata": {},
   "source": [
    "### 1. Write a Python program to Extract Unique  dictionary values?"
   ]
  },
  {
   "cell_type": "code",
   "execution_count": 3,
   "id": "5e28e959",
   "metadata": {},
   "outputs": [
    {
     "name": "stdout",
     "output_type": "stream",
     "text": [
      "The original dictionary is : {'gfg': [5, 6, 7, 8], 'is': [10, 11, 7, 5], 'best': [6, 12, 10, 8], 'for': [1, 2, 5]}\n",
      "[5, 6, 7, 8, 10, 11, 7, 5, 6, 12, 10, 8, 1, 2, 5]\n"
     ]
    }
   ],
   "source": [
    "test_dict = {'gfg' : [5, 6, 7, 8],\n",
    "            'is' : [10, 11, 7, 5],\n",
    "            'best' : [6, 12, 10, 8],\n",
    "            'for' : [1, 2, 5]}\n",
    " \n",
    "# printing original dictionary\n",
    "print(\"The original dictionary is : \" + str(test_dict))\n",
    " \n",
    "x=list(test_dict.values())\n",
    "y=[]\n",
    "res=[]\n",
    "for i in x:\n",
    "    y.extend(i)\n",
    "for i in y:\n",
    "    if i not in res:\n",
    "        res.append(i)\n",
    "res.sort()\n",
    "print(y)\n",
    "# printing result\n",
    "print(\"The unique values list is : \" + str(res))"
   ]
  },
  {
   "cell_type": "markdown",
   "id": "203bcbc3",
   "metadata": {},
   "source": [
    "### 2. Write a Python program to find the sum of all items in a dictionary?"
   ]
  },
  {
   "cell_type": "code",
   "execution_count": null,
   "id": "f5032e52",
   "metadata": {},
   "outputs": [],
   "source": [
    "def returnSum(myDict):\n",
    " \n",
    "    list = []\n",
    "    for i in myDict:\n",
    "        list.append(myDict[i])\n",
    "    final = sum(list)\n",
    " \n",
    "    return final\n",
    " \n",
    " \n",
    "# Driver Function\n",
    "dict = {'a': 100, 'b': 200, 'c': 300}\n",
    "print(\"Sum :\", returnSum(dict))"
   ]
  },
  {
   "cell_type": "markdown",
   "id": "edfbc682",
   "metadata": {},
   "source": [
    "### 3. Write a Python program to Merging two Dictionaries?"
   ]
  },
  {
   "cell_type": "code",
   "execution_count": null,
   "id": "89ba20e6",
   "metadata": {},
   "outputs": [],
   "source": [
    "def Merge(dict1, dict2):\n",
    "    return(dict2.update(dict1))\n",
    " \n",
    " \n",
    "\n",
    "dict1 = {'a': 10, 'b': 8}\n",
    "dict2 = {'d': 6, 'c': 4}\n",
    " \n",
    "\n",
    "print(Merge(dict1, dict2))\n",
    "\n",
    "print(dict2)"
   ]
  },
  {
   "cell_type": "markdown",
   "id": "62eaf687",
   "metadata": {},
   "source": [
    "### 4. Write a Python program to convert key-values list to flat dictionary?"
   ]
  },
  {
   "cell_type": "code",
   "execution_count": 4,
   "id": "806b6972",
   "metadata": {},
   "outputs": [
    {
     "name": "stdout",
     "output_type": "stream",
     "text": [
      "Original dictionary:  {'day': [1, 2, 3], 'name': ['Mon', 'Tues', 'Wed']}\n",
      "FLATTENED DICTIONARY:  {1: 'Mon', 2: 'Tues', 3: 'Wed'}\n"
     ]
    }
   ],
   "source": [
    "dic= { \"day\": [1, 2, 3], \"name\": ['Mon', 'Tues', 'Wed' ] }\n",
    "print(\"Original dictionary: \",dic)\n",
    "\n",
    "# convert to flat dictionary\n",
    "\n",
    "f_dic= dict(zip(dic[\"day\"], dic[\"name\"]))\n",
    "print(\"FLATTENED DICTIONARY: \", f_dic)"
   ]
  },
  {
   "cell_type": "markdown",
   "id": "fcc5015f",
   "metadata": {},
   "source": [
    "### 5. Write a Python program to insertion at the beginning in OrderedDict?"
   ]
  },
  {
   "cell_type": "code",
   "execution_count": 5,
   "id": "426eb20b",
   "metadata": {},
   "outputs": [
    {
     "name": "stdout",
     "output_type": "stream",
     "text": [
      "Resultant Dictionary : OrderedDict([('manjeet', '3'), ('akshat', '1'), ('nikhil', '2')])\n"
     ]
    }
   ],
   "source": [
    "from collections import OrderedDict\n",
    " \n",
    "# initialising ordered_dict\n",
    "iniordered_dict = OrderedDict([('akshat', '1'), ('nikhil', '2')])\n",
    " \n",
    "# inserting items in starting of dict\n",
    "iniordered_dict.update({'manjeet':'3'})\n",
    "iniordered_dict.move_to_end('manjeet', last = False)\n",
    " \n",
    "# print result\n",
    "print (\"Resultant Dictionary : \"+str(iniordered_dict))"
   ]
  },
  {
   "cell_type": "markdown",
   "id": "5978c9ab",
   "metadata": {},
   "source": [
    "### 6. Write a Python program to check order of character in string using OrderedDict()?"
   ]
  },
  {
   "cell_type": "code",
   "execution_count": null,
   "id": "74faa0c1",
   "metadata": {},
   "outputs": [],
   "source": [
    "from collections import OrderedDict \n",
    "  \n",
    "def checkOrder(input, pattern): \n",
    "      \n",
    "    # create empty OrderedDict \n",
    "    # output will be like {'a': None,'b': None, 'c': None} \n",
    "    dict = OrderedDict.fromkeys(input) \n",
    "  \n",
    "    # traverse generated OrderedDict parallel with \n",
    "    # pattern string to check if order of characters \n",
    "    # are same or not \n",
    "    ptrlen = 0\n",
    "    for key,value in dict.items(): \n",
    "        if (key == pattern[ptrlen]): \n",
    "            ptrlen = ptrlen + 1\n",
    "          \n",
    "        # check if we have traverse complete \n",
    "        # pattern string \n",
    "        if (ptrlen == (len(pattern))): \n",
    "            return 'true'\n",
    "  \n",
    "    # if we come out from for loop that means \n",
    "    # order was mismatched \n",
    "    return 'false'\n",
    "  \n",
    "# Driver program \n",
    "if __name__ == \"__main__\": \n",
    "    input = 'engineers rock'\n",
    "    pattern = 'er'\n",
    "    print (checkOrder(input,pattern)) "
   ]
  },
  {
   "cell_type": "markdown",
   "id": "f330da77",
   "metadata": {},
   "source": [
    "### 7. Write a Python program to sort Python Dictionaries by Key or Value?"
   ]
  },
  {
   "cell_type": "code",
   "execution_count": 6,
   "id": "7d484fc1",
   "metadata": {},
   "outputs": [
    {
     "name": "stdout",
     "output_type": "stream",
     "text": [
      "{'rajnish': 9, 'ravi': 10, 'sanjeev': 15, 'suraj': 32, 'yash': 2}\n"
     ]
    }
   ],
   "source": [
    "myDict = {'ravi': 10, 'rajnish': 9,\n",
    "        'sanjeev': 15, 'yash': 2, 'suraj': 32}\n",
    " \n",
    "myKeys = list(myDict.keys())\n",
    "myKeys.sort()\n",
    "sorted_dict = {i: myDict[i] for i in myKeys}\n",
    " \n",
    "print(sorted_dict)"
   ]
  }
 ],
 "metadata": {
  "kernelspec": {
   "display_name": "Python 3 (ipykernel)",
   "language": "python",
   "name": "python3"
  },
  "language_info": {
   "codemirror_mode": {
    "name": "ipython",
    "version": 3
   },
   "file_extension": ".py",
   "mimetype": "text/x-python",
   "name": "python",
   "nbconvert_exporter": "python",
   "pygments_lexer": "ipython3",
   "version": "3.10.9"
  }
 },
 "nbformat": 4,
 "nbformat_minor": 5
}
