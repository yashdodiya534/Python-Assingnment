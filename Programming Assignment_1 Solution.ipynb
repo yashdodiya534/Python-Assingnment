{
 "cells": [
  {
   "cell_type": "markdown",
   "id": "637b47a5",
   "metadata": {},
   "source": [
    "## Programming Assignment_1\n",
    "-------------"
   ]
  },
  {
   "cell_type": "markdown",
   "id": "0c647dbe",
   "metadata": {
    "tags": []
   },
   "source": [
    "### 1. Write a Python program to print \"Hello Python\"?"
   ]
  },
  {
   "cell_type": "code",
   "execution_count": 2,
   "id": "a42cd216-9f30-4066-8be3-55f0fe74cd26",
   "metadata": {},
   "outputs": [
    {
     "name": "stdout",
     "output_type": "stream",
     "text": [
      " Hello Python\n"
     ]
    }
   ],
   "source": [
    "print(\" Hello Python\")"
   ]
  },
  {
   "cell_type": "markdown",
   "id": "fc18a6cd",
   "metadata": {
    "tags": []
   },
   "source": [
    "### 2. Write a Python program to do arithmetical operations addition and division.?\n"
   ]
  },
  {
   "cell_type": "code",
   "execution_count": 5,
   "id": "180c84a1-286a-49ee-ae78-e8b517464ef9",
   "metadata": {},
   "outputs": [
    {
     "name": "stdin",
     "output_type": "stream",
     "text": [
      "Input Number 10\n",
      "Input Number 20\n"
     ]
    },
    {
     "name": "stdout",
     "output_type": "stream",
     "text": [
      "Additon of the numbers: 30 \n",
      "\n",
      "Division of the numbers: 0.5 \n",
      "\n"
     ]
    }
   ],
   "source": [
    " A=int(input(\"Input Number\"))\n",
    " B= int(input(\"Input Number\")) \n",
    " C=A+B\n",
    " D=A/B\n",
    "print(\"Additon of the numbers:\",C,\"\\n\")\n",
    "print(\"Division of the numbers:\",D,\"\\n\")       \n",
    "    "
   ]
  },
  {
   "cell_type": "markdown",
   "id": "af6e2429",
   "metadata": {
    "tags": []
   },
   "source": [
    "### 3. Write a Python program to find the area of a triangle?\n"
   ]
  },
  {
   "cell_type": "code",
   "execution_count": 3,
   "id": "94d3796f-c778-4e5f-88dd-36ce2850692a",
   "metadata": {},
   "outputs": [
    {
     "name": "stdin",
     "output_type": "stream",
     "text": [
      "enter the side of triangel 3\n",
      "enter the side of triangel 4\n",
      "enter the side of triangel 5\n"
     ]
    },
    {
     "name": "stdout",
     "output_type": "stream",
     "text": [
      "\n",
      "Area of the Tringel is:  6.0\n"
     ]
    }
   ],
   "source": [
    "\n",
    "\n",
    "\n",
    "## Python Program to find Area of a Triangle\n",
    "\n",
    "A=eval(input(\"enter the side of triangel\"))\n",
    "B=eval(input(\"enter the side of triangel\"))\n",
    "C=eval(input(\"enter the side of triangel\"))\n",
    "\n",
    "# calculate the Perimeter\n",
    "P= A+B+C\n",
    "\n",
    "# calculate the semi-perimeter\n",
    "S=P/2\n",
    "\n",
    "# calculate the area\n",
    "Area = (S*(S-A)*(S-B)*(S-C))**0.5\n",
    "\n",
    "\n",
    "print(\"Area of the Tringel is: \",Area)"
   ]
  },
  {
   "cell_type": "markdown",
   "id": "b8140061",
   "metadata": {
    "tags": []
   },
   "source": [
    "### 4. Write a Python program to swap two variables?\n"
   ]
  },
  {
   "cell_type": "code",
   "execution_count": 6,
   "id": "d43de618-b888-4290-a888-f6bd0f040263",
   "metadata": {},
   "outputs": [
    {
     "name": "stdin",
     "output_type": "stream",
     "text": [
      "enter the value for A: 30\n",
      "enter the value for B: 40\n"
     ]
    },
    {
     "name": "stdout",
     "output_type": "stream",
     "text": [
      "\n",
      "Before swap A = 30 and B = 40\n",
      "\n",
      "After swaping A = 40 and B = 30\n",
      "\n"
     ]
    }
   ],
   "source": [
    "#pr\n",
    "\n",
    "A = eval(input(\"enter the value for A:\"))\n",
    "B = eval(input(\"enter the value for B:\"))\n",
    "print(\"\\nBefore swap A = %d and B = %d\" %(A, B))\n",
    "A, B = B, A\n",
    "print(\"\\nAfter swaping A = %d and B = %d\" %(A, B))\n",
    "print()"
   ]
  },
  {
   "cell_type": "markdown",
   "id": "3f8054c1",
   "metadata": {
    "tags": []
   },
   "source": [
    "### 5. Write a Python program to generate a random number?\n"
   ]
  },
  {
   "cell_type": "code",
   "execution_count": 12,
   "id": "a879f9ee-bd3a-47c3-bb2c-c7de00d8a9de",
   "metadata": {},
   "outputs": [
    {
     "name": "stdout",
     "output_type": "stream",
     "text": [
      "Random integer between 0 to 1000:  638\n"
     ]
    }
   ],
   "source": [
    "\n",
    "# imports random module\n",
    "import random\n",
    "\n",
    "A=random.randint(0,1000) # Generates a random number between range \n",
    "print(\"Random integer between 0 to 1000: \",A)"
   ]
  },
  {
   "cell_type": "code",
   "execution_count": null,
   "id": "0a6c7bda-6b5c-4ba2-a7af-46d51367da9d",
   "metadata": {},
   "outputs": [],
   "source": []
  }
 ],
 "metadata": {
  "kernelspec": {
   "display_name": "Python 3 (ipykernel)",
   "language": "python",
   "name": "python3"
  },
  "language_info": {
   "codemirror_mode": {
    "name": "ipython",
    "version": 3
   },
   "file_extension": ".py",
   "mimetype": "text/x-python",
   "name": "python",
   "nbconvert_exporter": "python",
   "pygments_lexer": "ipython3",
   "version": "3.10.6"
  }
 },
 "nbformat": 4,
 "nbformat_minor": 5
}
