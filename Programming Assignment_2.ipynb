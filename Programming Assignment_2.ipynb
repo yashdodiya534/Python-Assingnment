{
 "cells": [
  {
   "cell_type": "markdown",
   "id": "08c66ea5",
   "metadata": {},
   "source": [
    "## Programming Assignment_2\n",
    "-------------"
   ]
  },
  {
   "cell_type": "markdown",
   "id": "4e50cf42",
   "metadata": {
    "tags": []
   },
   "source": [
    "### 1. Write a Python program to convert kilometers to miles?\n"
   ]
  },
  {
   "cell_type": "code",
   "execution_count": 1,
   "id": "031c5fca-99dc-4e4d-928b-22e4cf109267",
   "metadata": {},
   "outputs": [
    {
     "name": "stdin",
     "output_type": "stream",
     "text": [
      "enter distance in Kilomiter:  10\n"
     ]
    },
    {
     "name": "stdout",
     "output_type": "stream",
     "text": [
      "Distance in Miles:  6.2137119\n"
     ]
    }
   ],
   "source": [
    "A=eval(input(\"enter distance in Kilomiter: \"))\n",
    "\n",
    "B= A*0.62137119\n",
    "\n",
    "print(\"Distance in Miles: \",B)\n",
    "\n",
    "\n"
   ]
  },
  {
   "cell_type": "markdown",
   "id": "0df4e6bf",
   "metadata": {
    "jupyter": {
     "source_hidden": true
    },
    "tags": []
   },
   "source": [
    "### 2.Write a Python program to convert Celsius to Fahrenheit?"
   ]
  },
  {
   "cell_type": "code",
   "execution_count": 2,
   "id": "480176a0-7342-4b3e-bf2a-43d2a0d2b676",
   "metadata": {},
   "outputs": [
    {
     "name": "stdin",
     "output_type": "stream",
     "text": [
      "Enter Temperature in Celsius: -40\n"
     ]
    },
    {
     "name": "stdout",
     "output_type": "stream",
     "text": [
      "Temperature in Fahrenheit:  -40.0\n"
     ]
    }
   ],
   "source": [
    "A=eval(input(\"Enter Temperature in Celsius:\"))\n",
    "\n",
    "B= A*(9/5)+32\n",
    "\n",
    "print(\"Temperature in Fahrenheit: \",B)\n",
    "\n"
   ]
  },
  {
   "cell_type": "markdown",
   "id": "46129b8e",
   "metadata": {},
   "source": [
    "### 3. Write a Python program to display calendar?\n"
   ]
  },
  {
   "cell_type": "code",
   "execution_count": 3,
   "id": "48f970c1-f28e-45d5-9585-de702f0794d1",
   "metadata": {},
   "outputs": [
    {
     "name": "stdin",
     "output_type": "stream",
     "text": [
      "Enter Year:  2022\n",
      "Enter Month:  11\n"
     ]
    },
    {
     "name": "stdout",
     "output_type": "stream",
     "text": [
      "   November 2022\n",
      "Mo Tu We Th Fr Sa Su\n",
      "    1  2  3  4  5  6\n",
      " 7  8  9 10 11 12 13\n",
      "14 15 16 17 18 19 20\n",
      "21 22 23 24 25 26 27\n",
      "28 29 30\n",
      "\n"
     ]
    }
   ],
   "source": [
    "# Python program to print Calendar using\n",
    "# Python Calender module\n",
    " \n",
    "import calendar\n",
    " \n",
    "# take year from user\n",
    "year = int(input(\"Enter Year: \"))\n",
    " \n",
    "# take month from user\n",
    "month = int(input(\"Enter Month: \"))\n",
    " \n",
    "# printing Calendar\n",
    "print(calendar.month(year, month))"
   ]
  },
  {
   "cell_type": "markdown",
   "id": "db2bf0f7",
   "metadata": {
    "tags": []
   },
   "source": [
    "### 4. Write a Python program to solve quadratic equation?"
   ]
  },
  {
   "cell_type": "code",
   "execution_count": 7,
   "id": "bf335c91-a3e1-4688-9a37-1ddf2e083fb0",
   "metadata": {},
   "outputs": [
    {
     "name": "stdin",
     "output_type": "stream",
     "text": [
      " input coefficient of x^2 : 10\n",
      " input coefficient of x^1 : 20\n",
      " input coefficient of x^0 : 30\n"
     ]
    },
    {
     "name": "stdout",
     "output_type": "stream",
     "text": [
      "Complex Roots\n",
      "-1.0  + i 28.284271247461902\n",
      "-1.0  - i 28.284271247461902\n"
     ]
    }
   ],
   "source": [
    "import math \n",
    "  \n",
    "  \n",
    " # function for finding roots\n",
    "def equationroots( a, b, c): \n",
    "  \n",
    "    # calculating discriminant using formula\n",
    "    dis = b * b - 4 * a * c \n",
    "    sqrt_val = math.sqrt(abs(dis)) \n",
    "      \n",
    "    # checking condition for discriminant\n",
    "    if dis > 0: \n",
    "        print(\" real and different roots \") \n",
    "        print((-b + sqrt_val)/(2 * a)) \n",
    "        print((-b - sqrt_val)/(2 * a)) \n",
    "      \n",
    "    elif dis == 0: \n",
    "        print(\" real and same roots\") \n",
    "        print(-b / (2 * a)) \n",
    "      \n",
    "    # when discriminant is less than 0\n",
    "    else:\n",
    "        print(\"Complex Roots\") \n",
    "        print(- b / (2 * a), \" + i\", sqrt_val) \n",
    "        print(- b / (2 * a), \" - i\", sqrt_val) \n",
    "  \n",
    " # Driver Program \n",
    "a = eval(input(\" input coefficient of x^2 :\"))\n",
    "b = eval(input(\" input coefficient of x^1 :\"))\n",
    "c = eval(input(\" input coefficient of x^0 :\"))\n",
    "  \n",
    "# If a is 0, then incorrect equation\n",
    "if a == 0: \n",
    "        print(\"Input correct quadratic equation\") \n",
    "else:\n",
    "    equationroots(a, b, c)\n"
   ]
  },
  {
   "cell_type": "markdown",
   "id": "f70f74c9",
   "metadata": {},
   "source": [
    "### 5. Write a Python program to swap two variables without temp variable?"
   ]
  },
  {
   "cell_type": "code",
   "execution_count": null,
   "id": "3cc8bed2-5319-4481-87c2-4f28c15cc618",
   "metadata": {},
   "outputs": [],
   "source": [
    "A = eval(input(\"enter the value for A:\"))\n",
    "B = eval(input(\"enter the value for B:\"))\n",
    "print(\"\\nBefore swap A = %d and B = %d\" %(A, B))\n",
    "A, B = B, A\n",
    "print(\"\\nAfter swaping A = %d and B = %d\" %(A, B))\n",
    "print()"
   ]
  }
 ],
 "metadata": {
  "kernelspec": {
   "display_name": "Python 3 (ipykernel)",
   "language": "python",
   "name": "python3"
  },
  "language_info": {
   "codemirror_mode": {
    "name": "ipython",
    "version": 3
   },
   "file_extension": ".py",
   "mimetype": "text/x-python",
   "name": "python",
   "nbconvert_exporter": "python",
   "pygments_lexer": "ipython3",
   "version": "3.10.6"
  }
 },
 "nbformat": 4,
 "nbformat_minor": 5
}
